{
 "cells": [
  {
   "cell_type": "markdown",
   "metadata": {},
   "source": [
    "# Popular Data Science Questions"
   ]
  },
  {
   "cell_type": "markdown",
   "metadata": {},
   "source": [
    "\n",
    "\n",
    "## Introduction"
   ]
  },
  {
   "cell_type": "markdown",
   "metadata": {},
   "source": [
    "### Preliminary\n",
    "\n",
    "This Notebook is the conclusion of the ***Data Analysis in Business*** course from [dataquest.io](dataquest.io). It is a guided project whose aim is to use all the techniques and skills learnt during the course. We will be working here with data extracted from the very popular website : [Stack Exchange](https://en.wikipedia.org/wiki/Stack_Exchange).\n",
    "\n",
    "#### Blockquotes usage\n",
    "> I am sometimes using blockquotes as this one, meaning that for the rest of the project I am quoting some elements given by dataquest. For the sake of simplicity and clarity, I estimated that they did not need any reformulation and were immediately usable and convenient for me and the reader."
   ]
  },
  {
   "cell_type": "markdown",
   "metadata": {},
   "source": [
    "### Context\n",
    "\n",
    "The project is guided and gives us a fictionnal scenario which is the following :\n",
    "\n",
    ">In this scenario, you're working for a company that creates data science content, be it books, online articles, videos or interactive text-based platforms like DataquestIn this scenario, you're working for a company that creates data science content, be it books, online articles, videos or interactive text-based platforms like Dataquest.\n",
    "\n",
    ">You're tasked with figuring out what is best content to write about. Because you took this course, you know that given the lack of instructions there's some leeway in what \"best\" means here.\n",
    "\n",
    ">Since you're passionate about helping people learn, you decide to scour the internet in search for the answer to the question \"What is it that people want to learn about in data science?\" (as opposed to determining the most profitable content, for instance).\n",
    "\n",
    ">Thinking back to your experience when you first started learning programming, it occurs to you that if you wanted to figure out what programming content to write, you could consult Stack Overflow (a question and answer website about programming) and see what kind of content is more popular.\n",
    "\n",
    ">You decide to investigate Stack Overflow a little more and find out that it is part of a question and answer website network called Stack Exchange.\n",
    "\n",
    ">Stack Exchange hosts sites on a multitude of fields and subjects, including mathematics, physics, philosophy, and data science!\n",
    "\n",
    "> Stack Exchange employs a reputation award system for its questions and answers. Each post — each question/answer — is a post that is subject to upvotes and downvotes. This ensures that good posts are easily identifiable.\n",
    "\n",
    "> Being a multidisciplinary field, there a few Stack Exchange websites there are relevant to our goal here:\n",
    "- **Data Science**\n",
    "- Cross Validated — a statistics site\n",
    "- Artificial Intelligence\n",
    "- Mathematics\n",
    "- Stack Overflow\n",
    "\n",
    ">The fact that DSSE is a data science dedicated site (contrarily to the others), coupled with it having a lot of unanswered questions, makes it an ideal candidate for this investigation. DSSE will be the focus of this guided project."
   ]
  },
  {
   "cell_type": "markdown",
   "metadata": {
    "collapsed": true
   },
   "source": [
    "## Stack Exchange"
   ]
  },
  {
   "cell_type": "markdown",
   "metadata": {},
   "source": [
    "If we consider the *Data Science Stack Exchange* websites, we can find many questions that have been asked and answered (and sometimes not, when a question is not relevant or no one is able to deal with it) on various topics related to Data Science such as :\n",
    "- machine learning\n",
    "- python\n",
    "- Neural Networks\n",
    "- statistics\n",
    "- time-series etc.\n",
    "\n",
    "Here below is an example of a post : \n",
    "![ex](ex_question.png)\n",
    "\n",
    "We can see for instance that, it has been *upvoted* 243 times and tagged under : neural-network, convnet, convolution. The other available information is : the date of the post, the number of views, the author, the answers and their threads,their possible votes (up or down), if question has been marked as resolved by the author.\n",
    "\n",
    "On the homepage, there is a an explore section with a slection some recent questions, and there also other sections which could be useful for our study like :\n",
    "- Questions\n",
    "- Users \n",
    "- Tags (especially useful to categorize our questions)\n",
    "- Unanswered"
   ]
  },
  {
   "cell_type": "markdown",
   "metadata": {},
   "source": [
    "## Stack Exchange Explorer Data"
   ]
  },
  {
   "cell_type": "markdown",
   "metadata": {},
   "source": [
    "To get gata for our study, we are not going to scrap the Stack Exchange website but rather use a tool that is provided by the platform. The latter provides a public data base for each of its websites. Here's a link to [query](https://data.stackexchange.com/datascience/query/edit/) and explore Data Science Stack Exchange's database. \n",
    "\n",
    "![explorer](data_explorer.png)"
   ]
  },
  {
   "cell_type": "markdown",
   "metadata": {},
   "source": [
    "As shown above, on the right one can see the Database Schema that is all the tables names and their respecive columns (with their types)  \n",
    "On the left, the tool lets us write our query in SQL (*note : here in T-SQL*). We can then see the results and eventually download the data in a csv file for example.\n",
    "\n",
    "As our goal is to find the most popular content we will likely to consider the following tables :\n",
    "- Posts / PostType\n",
    "- Users\n",
    "- Votes / VotesType\n",
    "- Tags / PostTags\n",
    "- and maybe some more ..."
   ]
  },
  {
   "cell_type": "markdown",
   "metadata": {},
   "source": [
    "## Getting the Data"
   ]
  },
  {
   "cell_type": "markdown",
   "metadata": {},
   "source": [
    "### Post Table"
   ]
  },
  {
   "cell_type": "markdown",
   "metadata": {},
   "source": [
    ">The posts table has a lot of columns. We'll be focusing our attention on those that seem relevant towards our goal:\n",
    ">\n",
    "- Id: An identification number for the post.\n",
    "- PostTypeId: An identification number for the type of post.\n",
    "- CreationDate: The date and time of creation of the post.    \n",
    "- Score: The post's score. \n",
    "- ViewCount: How many times the post was viewed.\n",
    "- Tags: What tags were used.\n",
    "- AnswerCount: How many answers the question got (only applicable to question posts).\n",
    "- FavoriteCount: How many times the question was favored (only applicable to question posts).\n"
   ]
  },
  {
   "cell_type": "markdown",
   "metadata": {},
   "source": [
    "Note that they are 8 types of Post (PostTypeId) and here we will only consider the **Question** posts (id =1). We will also restrain our analysis to 2019 posts."
   ]
  },
  {
   "cell_type": "markdown",
   "metadata": {},
   "source": [
    "    SELECT \n",
    "          Id,\n",
    "          PostTypeId,\n",
    "          CreationDate,\n",
    "          Score,\n",
    "          Viewcount,\n",
    "          Tags,\n",
    "          AnswerCount,\n",
    "          FavoriteCount\n",
    "    FROM Posts\n",
    "    WHERE PostTypeId = 1\n",
    "          and CreationDate >= '2019-01-01' and CreationDate < '2020-01-01'"
   ]
  },
  {
   "cell_type": "markdown",
   "metadata": {},
   "source": [
    "We run the above SQL-Query in the *Editing Query* and we download the result in a csv file called : `questions_2019.csv`"
   ]
  },
  {
   "cell_type": "markdown",
   "metadata": {},
   "source": [
    "## Exploring the Data"
   ]
  },
  {
   "cell_type": "code",
   "execution_count": 1,
   "metadata": {
    "collapsed": true
   },
   "outputs": [],
   "source": [
    "import pandas as pd\n",
    "import numpy as np\n",
    "import matplotlib.pyplot as plt\n",
    "import seaborn as sns\n",
    "\n",
    "data = pd.read_csv('questions_2019.csv')\n"
   ]
  },
  {
   "cell_type": "code",
   "execution_count": 2,
   "metadata": {},
   "outputs": [
    {
     "data": {
      "text/html": [
       "<div>\n",
       "<style>\n",
       "    .dataframe thead tr:only-child th {\n",
       "        text-align: right;\n",
       "    }\n",
       "\n",
       "    .dataframe thead th {\n",
       "        text-align: left;\n",
       "    }\n",
       "\n",
       "    .dataframe tbody tr th {\n",
       "        vertical-align: top;\n",
       "    }\n",
       "</style>\n",
       "<table border=\"1\" class=\"dataframe\">\n",
       "  <thead>\n",
       "    <tr style=\"text-align: right;\">\n",
       "      <th></th>\n",
       "      <th>Id</th>\n",
       "      <th>PostTypeId</th>\n",
       "      <th>CreationDate</th>\n",
       "      <th>Score</th>\n",
       "      <th>Viewcount</th>\n",
       "      <th>Tags</th>\n",
       "      <th>AnswerCount</th>\n",
       "      <th>FavoriteCount</th>\n",
       "    </tr>\n",
       "  </thead>\n",
       "  <tbody>\n",
       "    <tr>\n",
       "      <th>0</th>\n",
       "      <td>60513</td>\n",
       "      <td>1</td>\n",
       "      <td>2019-09-20 17:35:23</td>\n",
       "      <td>1</td>\n",
       "      <td>24</td>\n",
       "      <td>&lt;orange&gt;&lt;orange3&gt;</td>\n",
       "      <td>0</td>\n",
       "      <td>NaN</td>\n",
       "    </tr>\n",
       "    <tr>\n",
       "      <th>1</th>\n",
       "      <td>60520</td>\n",
       "      <td>1</td>\n",
       "      <td>2019-09-20 19:20:41</td>\n",
       "      <td>2</td>\n",
       "      <td>191</td>\n",
       "      <td>&lt;machine-learning&gt;&lt;scikit-learn&gt;&lt;multiclass-cl...</td>\n",
       "      <td>2</td>\n",
       "      <td>1.0</td>\n",
       "    </tr>\n",
       "    <tr>\n",
       "      <th>2</th>\n",
       "      <td>60522</td>\n",
       "      <td>1</td>\n",
       "      <td>2019-09-20 21:05:01</td>\n",
       "      <td>0</td>\n",
       "      <td>30</td>\n",
       "      <td>&lt;machine-learning&gt;&lt;image-recognition&gt;&lt;image-pr...</td>\n",
       "      <td>1</td>\n",
       "      <td>NaN</td>\n",
       "    </tr>\n",
       "    <tr>\n",
       "      <th>3</th>\n",
       "      <td>60527</td>\n",
       "      <td>1</td>\n",
       "      <td>2019-09-20 22:45:12</td>\n",
       "      <td>0</td>\n",
       "      <td>123</td>\n",
       "      <td>&lt;machine-learning&gt;&lt;feature-selection&gt;&lt;random-f...</td>\n",
       "      <td>2</td>\n",
       "      <td>NaN</td>\n",
       "    </tr>\n",
       "    <tr>\n",
       "      <th>4</th>\n",
       "      <td>60528</td>\n",
       "      <td>1</td>\n",
       "      <td>2019-09-20 23:13:52</td>\n",
       "      <td>2</td>\n",
       "      <td>19</td>\n",
       "      <td>&lt;numpy&gt;&lt;matplotlib&gt;</td>\n",
       "      <td>0</td>\n",
       "      <td>NaN</td>\n",
       "    </tr>\n",
       "    <tr>\n",
       "      <th>5</th>\n",
       "      <td>60531</td>\n",
       "      <td>1</td>\n",
       "      <td>2019-09-21 00:03:13</td>\n",
       "      <td>2</td>\n",
       "      <td>36</td>\n",
       "      <td>&lt;classification&gt;&lt;theory&gt;&lt;methodology&gt;</td>\n",
       "      <td>1</td>\n",
       "      <td>NaN</td>\n",
       "    </tr>\n",
       "    <tr>\n",
       "      <th>6</th>\n",
       "      <td>60533</td>\n",
       "      <td>1</td>\n",
       "      <td>2019-09-21 00:13:36</td>\n",
       "      <td>1</td>\n",
       "      <td>61</td>\n",
       "      <td>&lt;data&gt;</td>\n",
       "      <td>1</td>\n",
       "      <td>NaN</td>\n",
       "    </tr>\n",
       "    <tr>\n",
       "      <th>7</th>\n",
       "      <td>60538</td>\n",
       "      <td>1</td>\n",
       "      <td>2019-09-21 04:28:36</td>\n",
       "      <td>0</td>\n",
       "      <td>57</td>\n",
       "      <td>&lt;classification&gt;&lt;regression&gt;</td>\n",
       "      <td>3</td>\n",
       "      <td>NaN</td>\n",
       "    </tr>\n",
       "    <tr>\n",
       "      <th>8</th>\n",
       "      <td>60546</td>\n",
       "      <td>1</td>\n",
       "      <td>2019-09-21 11:42:38</td>\n",
       "      <td>2</td>\n",
       "      <td>385</td>\n",
       "      <td>&lt;deep-learning&gt;</td>\n",
       "      <td>0</td>\n",
       "      <td>1.0</td>\n",
       "    </tr>\n",
       "    <tr>\n",
       "      <th>9</th>\n",
       "      <td>60547</td>\n",
       "      <td>1</td>\n",
       "      <td>2019-09-21 12:30:46</td>\n",
       "      <td>0</td>\n",
       "      <td>1430</td>\n",
       "      <td>&lt;python&gt;&lt;neural-network&gt;&lt;scikit-learn&gt;&lt;hyperpa...</td>\n",
       "      <td>1</td>\n",
       "      <td>NaN</td>\n",
       "    </tr>\n",
       "  </tbody>\n",
       "</table>\n",
       "</div>"
      ],
      "text/plain": [
       "      Id  PostTypeId         CreationDate  Score  Viewcount  \\\n",
       "0  60513           1  2019-09-20 17:35:23      1         24   \n",
       "1  60520           1  2019-09-20 19:20:41      2        191   \n",
       "2  60522           1  2019-09-20 21:05:01      0         30   \n",
       "3  60527           1  2019-09-20 22:45:12      0        123   \n",
       "4  60528           1  2019-09-20 23:13:52      2         19   \n",
       "5  60531           1  2019-09-21 00:03:13      2         36   \n",
       "6  60533           1  2019-09-21 00:13:36      1         61   \n",
       "7  60538           1  2019-09-21 04:28:36      0         57   \n",
       "8  60546           1  2019-09-21 11:42:38      2        385   \n",
       "9  60547           1  2019-09-21 12:30:46      0       1430   \n",
       "\n",
       "                                                Tags  AnswerCount  \\\n",
       "0                                  <orange><orange3>            0   \n",
       "1  <machine-learning><scikit-learn><multiclass-cl...            2   \n",
       "2  <machine-learning><image-recognition><image-pr...            1   \n",
       "3  <machine-learning><feature-selection><random-f...            2   \n",
       "4                                <numpy><matplotlib>            0   \n",
       "5              <classification><theory><methodology>            1   \n",
       "6                                             <data>            1   \n",
       "7                       <classification><regression>            3   \n",
       "8                                    <deep-learning>            0   \n",
       "9  <python><neural-network><scikit-learn><hyperpa...            1   \n",
       "\n",
       "   FavoriteCount  \n",
       "0            NaN  \n",
       "1            1.0  \n",
       "2            NaN  \n",
       "3            NaN  \n",
       "4            NaN  \n",
       "5            NaN  \n",
       "6            NaN  \n",
       "7            NaN  \n",
       "8            1.0  \n",
       "9            NaN  "
      ]
     },
     "execution_count": 2,
     "metadata": {},
     "output_type": "execute_result"
    }
   ],
   "source": [
    "data.head(10)"
   ]
  },
  {
   "cell_type": "code",
   "execution_count": 3,
   "metadata": {},
   "outputs": [
    {
     "data": {
      "text/plain": [
       "(6781, 8)"
      ]
     },
     "execution_count": 3,
     "metadata": {},
     "output_type": "execute_result"
    }
   ],
   "source": [
    "data.shape\n"
   ]
  },
  {
   "cell_type": "code",
   "execution_count": 4,
   "metadata": {},
   "outputs": [
    {
     "name": "stdout",
     "output_type": "stream",
     "text": [
      "<class 'pandas.core.frame.DataFrame'>\n",
      "RangeIndex: 6781 entries, 0 to 6780\n",
      "Data columns (total 8 columns):\n",
      "Id               6781 non-null int64\n",
      "PostTypeId       6781 non-null int64\n",
      "CreationDate     6781 non-null object\n",
      "Score            6781 non-null int64\n",
      "Viewcount        6781 non-null int64\n",
      "Tags             6781 non-null object\n",
      "AnswerCount      6781 non-null int64\n",
      "FavoriteCount    1579 non-null float64\n",
      "dtypes: float64(1), int64(5), object(2)\n",
      "memory usage: 423.9+ KB\n"
     ]
    }
   ],
   "source": [
    "data.info()"
   ]
  },
  {
   "cell_type": "code",
   "execution_count": 5,
   "metadata": {},
   "outputs": [
    {
     "data": {
      "text/plain": [
       "NaN      5202\n",
       " 1.0     1008\n",
       " 2.0      252\n",
       " 0.0      160\n",
       " 3.0       70\n",
       " 4.0       38\n",
       " 5.0       17\n",
       " 6.0       15\n",
       " 8.0        8\n",
       " 13.0       4\n",
       " 7.0        3\n",
       " 10.0       2\n",
       " 17.0       1\n",
       " 20.0       1\n",
       "Name: FavoriteCount, dtype: int64"
      ]
     },
     "execution_count": 5,
     "metadata": {},
     "output_type": "execute_result"
    }
   ],
   "source": [
    "data['FavoriteCount'].value_counts(dropna=False)"
   ]
  },
  {
   "cell_type": "markdown",
   "metadata": {},
   "source": [
    "From the information printed above we can underline a few things regarding our data and its structure :\n",
    "- There are 6781 rows and 8 columns\n",
    "- 7 of the 8 columns have no-missing values at all, but the 8th one (FavoriteCount) has a lot of missing values as only 1579 of its values are non-null. After exploring a few posts having NaN for the FavoriteCount column, we can conclude that the post has never been picked up or \"bookmarded\" by a user , so we will fill the missing values with 0.\n",
    "- Regarding our columns types, they all seem to be adequate considering the nature of the underlying column ; except for the `CreationDate` column whose values are object and should be *Datetime* type so we are going to convert this column. "
   ]
  },
  {
   "cell_type": "code",
   "execution_count": 6,
   "metadata": {
    "collapsed": true
   },
   "outputs": [],
   "source": [
    "data['FavoriteCount'] = data['FavoriteCount'].fillna(0).astype(int)\n",
    "data['CreationDate'] = pd.to_datetime(data['CreationDate'])\n"
   ]
  },
  {
   "cell_type": "markdown",
   "metadata": {},
   "source": [
    "Regardin the `Tags` column, all the posts tags are stored as in a single string and are delimited with \"< >\"."
   ]
  },
  {
   "cell_type": "code",
   "execution_count": 7,
   "metadata": {
    "collapsed": true
   },
   "outputs": [],
   "source": [
    "data['Tags'] = data['Tags'].str.replace('<','').str.replace('>',',').astype(str)\n",
    "data['Tags'] = data['Tags'].apply(lambda s: s[:-1])"
   ]
  },
  {
   "cell_type": "code",
   "execution_count": 8,
   "metadata": {},
   "outputs": [
    {
     "name": "stdout",
     "output_type": "stream",
     "text": [
      "<class 'pandas.core.frame.DataFrame'>\n",
      "RangeIndex: 6781 entries, 0 to 6780\n",
      "Data columns (total 8 columns):\n",
      "Id               6781 non-null int64\n",
      "PostTypeId       6781 non-null int64\n",
      "CreationDate     6781 non-null datetime64[ns]\n",
      "Score            6781 non-null int64\n",
      "Viewcount        6781 non-null int64\n",
      "Tags             6781 non-null object\n",
      "AnswerCount      6781 non-null int64\n",
      "FavoriteCount    6781 non-null int64\n",
      "dtypes: datetime64[ns](1), int64(6), object(1)\n",
      "memory usage: 423.9+ KB\n"
     ]
    }
   ],
   "source": [
    "data.info()"
   ]
  },
  {
   "cell_type": "code",
   "execution_count": 9,
   "metadata": {},
   "outputs": [
    {
     "data": {
      "text/plain": [
       "0                                       orange,orange3\n",
       "1    machine-learning,scikit-learn,multiclass-class...\n",
       "2    machine-learning,image-recognition,image-prepr...\n",
       "3    machine-learning,feature-selection,random-fore...\n",
       "4                                     numpy,matplotlib\n",
       "Name: Tags, dtype: object"
      ]
     },
     "execution_count": 9,
     "metadata": {},
     "output_type": "execute_result"
    }
   ],
   "source": [
    "data[\"Tags\"].head(5)"
   ]
  },
  {
   "cell_type": "markdown",
   "metadata": {},
   "source": [
    "\n",
    "Now we can see that our `Tags` column contains strings with the list of tags separated with a ' , '.\n",
    "The format is the following 'tag1,tag2,tag3,...,tagn'. We will be able to use the split method to get a list of tags from each string and we will build a frequency dictionnary to count how many times each tag was used."
   ]
  },
  {
   "cell_type": "markdown",
   "metadata": {},
   "source": [
    "### Most used Tags"
   ]
  },
  {
   "cell_type": "code",
   "execution_count": 10,
   "metadata": {
    "collapsed": true
   },
   "outputs": [],
   "source": [
    "data[\"Tags\"] = data[\"Tags\"].str.split(\",\")\n",
    "L_tags = data[\"Tags\"].tolist()\n",
    "\n",
    "dict_tags = {}"
   ]
  },
  {
   "cell_type": "code",
   "execution_count": 11,
   "metadata": {
    "collapsed": true
   },
   "outputs": [],
   "source": [
    "for L in L_tags:\n",
    "    n= len(L)\n",
    "    for i in range(n):\n",
    "        tag = L[i]\n",
    "        if tag in dict_tags:\n",
    "            dict_tags[tag] +=1\n",
    "        else:\n",
    "            dict_tags[tag] = 1  \n"
   ]
  },
  {
   "cell_type": "code",
   "execution_count": 12,
   "metadata": {},
   "outputs": [
    {
     "data": {
      "text/plain": [
       "machine-learning    2134\n",
       "python              1448\n",
       "deep-learning        889\n",
       "neural-network       819\n",
       "keras                706\n",
       "classification       580\n",
       "scikit-learn         447\n",
       "tensorflow           413\n",
       "nlp                  394\n",
       "cnn                  379\n",
       "Name: Count, dtype: int64"
      ]
     },
     "execution_count": 12,
     "metadata": {},
     "output_type": "execute_result"
    }
   ],
   "source": [
    "df = pd.DataFrame.from_dict(dict_tags,orient='index')\n",
    "df.rename(columns={0: \"Count\"}, inplace=True)\n",
    "df[\"Count\"].sort_values(ascending=False).head(10)"
   ]
  },
  {
   "cell_type": "markdown",
   "metadata": {},
   "source": [
    "Here above are the 15 most-used tags on the Data Science Stack Exchange platform."
   ]
  },
  {
   "cell_type": "code",
   "execution_count": 13,
   "metadata": {},
   "outputs": [
    {
     "data": {
      "image/png": "[encoded data removed]",
      "text/plain": [
       "<matplotlib.figure.Figure at 0x10f5f0588>"
      ]
     },
     "metadata": {},
     "output_type": "display_data"
    }
   ],
   "source": [
    "df[\"Count\"].sort_values(ascending=False).head(10).plot(kind='bar',figsize=(16,8),title='Top 10 used Tags')\n",
    "plt.show()"
   ]
  },
  {
   "cell_type": "markdown",
   "metadata": {},
   "source": [
    "### Most viewd Tags"
   ]
  },
  {
   "cell_type": "code",
   "execution_count": 14,
   "metadata": {
    "collapsed": true
   },
   "outputs": [],
   "source": [
    "dict_views = {}\n",
    "\n",
    "for i,row in data.iterrows():\n",
    "    for tag in row[\"Tags\"]:\n",
    "        if tag in dict_views:\n",
    "            dict_views[tag] += row[\"Viewcount\"]\n",
    "        else:\n",
    "            dict_views[tag] = row[\"Viewcount\"]\n",
    "            "
   ]
  },
  {
   "cell_type": "code",
   "execution_count": 15,
   "metadata": {},
   "outputs": [
    {
     "data": {
      "text/plain": [
       "python              1803431\n",
       "machine-learning    1170539\n",
       "pandas               829503\n",
       "keras                780769\n",
       "deep-learning        670009\n",
       "neural-network       573712\n",
       "scikit-learn         431842\n",
       "tensorflow           391212\n",
       "classification       329088\n",
       "dataframe            311686\n",
       "Name: ViewCount, dtype: int64"
      ]
     },
     "execution_count": 15,
     "metadata": {},
     "output_type": "execute_result"
    }
   ],
   "source": [
    "df2 = pd.DataFrame.from_dict(dict_views,orient='index')\n",
    "df2.rename(columns={0: \"ViewCount\"}, inplace=True)\n",
    "df2[\"ViewCount\"].sort_values(ascending=False).head(10)"
   ]
  },
  {
   "cell_type": "code",
   "execution_count": 16,
   "metadata": {},
   "outputs": [
    {
     "data": {
      "image/png": "[encoded data removed]",
      "text/plain": [
       "<matplotlib.figure.Figure at 0x10f5bfd30>"
      ]
     },
     "metadata": {},
     "output_type": "display_data"
    }
   ],
   "source": [
    "df2[\"ViewCount\"].sort_values(ascending=False).head(10).plot(kind='bar',figsize=(16,8),title=\"Top 10 most viewed tags \")\n",
    "plt.show()"
   ]
  },
  {
   "cell_type": "code",
   "execution_count": 17,
   "metadata": {},
   "outputs": [
    {
     "data": {
      "image/png": "[encoded data removed]",
      "text/plain": [
       "<matplotlib.figure.Figure at 0x1a18a3cc18>"
      ]
     },
     "metadata": {},
     "output_type": "display_data"
    }
   ],
   "source": [
    "fig, axes = plt.subplots(nrows=1, ncols=2)\n",
    "fig.set_size_inches((16, 6))\n",
    "df[\"Count\"].sort_values(ascending=False).head(10).plot(kind='bar',ax = axes[0], subplots = True)\n",
    "df2[\"ViewCount\"].sort_values(ascending=False).head(10).plot(kind='bar',ax = axes[1],subplots = True)\n",
    "\n",
    "plt.show()\n",
    "\n",
    "\n"
   ]
  },
  {
   "cell_type": "code",
   "execution_count": 18,
   "metadata": {
    "collapsed": true
   },
   "outputs": [],
   "source": [
    "# getting as dataframes, the top 20 most-used / most-viewed Tags\n",
    "most_used = df.sort_values(\"Count\",ascending=False).head(20)\n",
    "most_viewed = df2.sort_values(\"ViewCount\",ascending=False).head(20)"
   ]
  },
  {
   "cell_type": "code",
   "execution_count": 19,
   "metadata": {
    "scrolled": false
   },
   "outputs": [
    {
     "data": {
      "text/html": [
       "<div>\n",
       "<style>\n",
       "    .dataframe thead tr:only-child th {\n",
       "        text-align: right;\n",
       "    }\n",
       "\n",
       "    .dataframe thead th {\n",
       "        text-align: left;\n",
       "    }\n",
       "\n",
       "    .dataframe tbody tr th {\n",
       "        vertical-align: top;\n",
       "    }\n",
       "</style>\n",
       "<table border=\"1\" class=\"dataframe\">\n",
       "  <thead>\n",
       "    <tr style=\"text-align: right;\">\n",
       "      <th></th>\n",
       "      <th>Count</th>\n",
       "      <th>ViewCount</th>\n",
       "    </tr>\n",
       "  </thead>\n",
       "  <tbody>\n",
       "    <tr>\n",
       "      <th>machine-learning</th>\n",
       "      <td>2134</td>\n",
       "      <td>1170539.0</td>\n",
       "    </tr>\n",
       "    <tr>\n",
       "      <th>python</th>\n",
       "      <td>1448</td>\n",
       "      <td>1803431.0</td>\n",
       "    </tr>\n",
       "    <tr>\n",
       "      <th>deep-learning</th>\n",
       "      <td>889</td>\n",
       "      <td>670009.0</td>\n",
       "    </tr>\n",
       "    <tr>\n",
       "      <th>neural-network</th>\n",
       "      <td>819</td>\n",
       "      <td>573712.0</td>\n",
       "    </tr>\n",
       "    <tr>\n",
       "      <th>keras</th>\n",
       "      <td>706</td>\n",
       "      <td>780769.0</td>\n",
       "    </tr>\n",
       "    <tr>\n",
       "      <th>classification</th>\n",
       "      <td>580</td>\n",
       "      <td>329088.0</td>\n",
       "    </tr>\n",
       "    <tr>\n",
       "      <th>scikit-learn</th>\n",
       "      <td>447</td>\n",
       "      <td>431842.0</td>\n",
       "    </tr>\n",
       "    <tr>\n",
       "      <th>tensorflow</th>\n",
       "      <td>413</td>\n",
       "      <td>391212.0</td>\n",
       "    </tr>\n",
       "    <tr>\n",
       "      <th>nlp</th>\n",
       "      <td>394</td>\n",
       "      <td>238505.0</td>\n",
       "    </tr>\n",
       "    <tr>\n",
       "      <th>cnn</th>\n",
       "      <td>379</td>\n",
       "      <td>247763.0</td>\n",
       "    </tr>\n",
       "    <tr>\n",
       "      <th>time-series</th>\n",
       "      <td>337</td>\n",
       "      <td>193947.0</td>\n",
       "    </tr>\n",
       "    <tr>\n",
       "      <th>pandas</th>\n",
       "      <td>315</td>\n",
       "      <td>829503.0</td>\n",
       "    </tr>\n",
       "    <tr>\n",
       "      <th>lstm</th>\n",
       "      <td>290</td>\n",
       "      <td>209445.0</td>\n",
       "    </tr>\n",
       "    <tr>\n",
       "      <th>regression</th>\n",
       "      <td>270</td>\n",
       "      <td>141472.0</td>\n",
       "    </tr>\n",
       "    <tr>\n",
       "      <th>dataset</th>\n",
       "      <td>250</td>\n",
       "      <td>121116.0</td>\n",
       "    </tr>\n",
       "    <tr>\n",
       "      <th>clustering</th>\n",
       "      <td>229</td>\n",
       "      <td>NaN</td>\n",
       "    </tr>\n",
       "    <tr>\n",
       "      <th>predictive-modeling</th>\n",
       "      <td>213</td>\n",
       "      <td>NaN</td>\n",
       "    </tr>\n",
       "    <tr>\n",
       "      <th>r</th>\n",
       "      <td>194</td>\n",
       "      <td>NaN</td>\n",
       "    </tr>\n",
       "    <tr>\n",
       "      <th>feature-selection</th>\n",
       "      <td>175</td>\n",
       "      <td>NaN</td>\n",
       "    </tr>\n",
       "    <tr>\n",
       "      <th>data-mining</th>\n",
       "      <td>173</td>\n",
       "      <td>NaN</td>\n",
       "    </tr>\n",
       "  </tbody>\n",
       "</table>\n",
       "</div>"
      ],
      "text/plain": [
       "                     Count  ViewCount\n",
       "machine-learning      2134  1170539.0\n",
       "python                1448  1803431.0\n",
       "deep-learning          889   670009.0\n",
       "neural-network         819   573712.0\n",
       "keras                  706   780769.0\n",
       "classification         580   329088.0\n",
       "scikit-learn           447   431842.0\n",
       "tensorflow             413   391212.0\n",
       "nlp                    394   238505.0\n",
       "cnn                    379   247763.0\n",
       "time-series            337   193947.0\n",
       "pandas                 315   829503.0\n",
       "lstm                   290   209445.0\n",
       "regression             270   141472.0\n",
       "dataset                250   121116.0\n",
       "clustering             229        NaN\n",
       "predictive-modeling    213        NaN\n",
       "r                      194        NaN\n",
       "feature-selection      175        NaN\n",
       "data-mining            173        NaN"
      ]
     },
     "execution_count": 19,
     "metadata": {},
     "output_type": "execute_result"
    }
   ],
   "source": [
    "in_used = pd.merge(most_used, most_viewed, how=\"left\", left_index=True, right_index=True)\n",
    "in_used"
   ]
  },
  {
   "cell_type": "markdown",
   "metadata": {},
   "source": [
    "From the above summary, the tags : clustering, predictive-modeling, r, feature-selection, data-mining are in the most-used but not in the most viewed."
   ]
  },
  {
   "cell_type": "code",
   "execution_count": 20,
   "metadata": {},
   "outputs": [
    {
     "data": {
      "text/html": [
       "<div>\n",
       "<style>\n",
       "    .dataframe thead tr:only-child th {\n",
       "        text-align: right;\n",
       "    }\n",
       "\n",
       "    .dataframe thead th {\n",
       "        text-align: left;\n",
       "    }\n",
       "\n",
       "    .dataframe tbody tr th {\n",
       "        vertical-align: top;\n",
       "    }\n",
       "</style>\n",
       "<table border=\"1\" class=\"dataframe\">\n",
       "  <thead>\n",
       "    <tr style=\"text-align: right;\">\n",
       "      <th></th>\n",
       "      <th>Count</th>\n",
       "      <th>ViewCount</th>\n",
       "    </tr>\n",
       "  </thead>\n",
       "  <tbody>\n",
       "    <tr>\n",
       "      <th>python</th>\n",
       "      <td>1448.0</td>\n",
       "      <td>1803431</td>\n",
       "    </tr>\n",
       "    <tr>\n",
       "      <th>machine-learning</th>\n",
       "      <td>2134.0</td>\n",
       "      <td>1170539</td>\n",
       "    </tr>\n",
       "    <tr>\n",
       "      <th>pandas</th>\n",
       "      <td>315.0</td>\n",
       "      <td>829503</td>\n",
       "    </tr>\n",
       "    <tr>\n",
       "      <th>keras</th>\n",
       "      <td>706.0</td>\n",
       "      <td>780769</td>\n",
       "    </tr>\n",
       "    <tr>\n",
       "      <th>deep-learning</th>\n",
       "      <td>889.0</td>\n",
       "      <td>670009</td>\n",
       "    </tr>\n",
       "    <tr>\n",
       "      <th>neural-network</th>\n",
       "      <td>819.0</td>\n",
       "      <td>573712</td>\n",
       "    </tr>\n",
       "    <tr>\n",
       "      <th>scikit-learn</th>\n",
       "      <td>447.0</td>\n",
       "      <td>431842</td>\n",
       "    </tr>\n",
       "    <tr>\n",
       "      <th>tensorflow</th>\n",
       "      <td>413.0</td>\n",
       "      <td>391212</td>\n",
       "    </tr>\n",
       "    <tr>\n",
       "      <th>classification</th>\n",
       "      <td>580.0</td>\n",
       "      <td>329088</td>\n",
       "    </tr>\n",
       "    <tr>\n",
       "      <th>dataframe</th>\n",
       "      <td>NaN</td>\n",
       "      <td>311686</td>\n",
       "    </tr>\n",
       "    <tr>\n",
       "      <th>cnn</th>\n",
       "      <td>379.0</td>\n",
       "      <td>247763</td>\n",
       "    </tr>\n",
       "    <tr>\n",
       "      <th>nlp</th>\n",
       "      <td>394.0</td>\n",
       "      <td>238505</td>\n",
       "    </tr>\n",
       "    <tr>\n",
       "      <th>lstm</th>\n",
       "      <td>290.0</td>\n",
       "      <td>209445</td>\n",
       "    </tr>\n",
       "    <tr>\n",
       "      <th>time-series</th>\n",
       "      <td>337.0</td>\n",
       "      <td>193947</td>\n",
       "    </tr>\n",
       "    <tr>\n",
       "      <th>numpy</th>\n",
       "      <td>NaN</td>\n",
       "      <td>176344</td>\n",
       "    </tr>\n",
       "    <tr>\n",
       "      <th>regression</th>\n",
       "      <td>270.0</td>\n",
       "      <td>141472</td>\n",
       "    </tr>\n",
       "    <tr>\n",
       "      <th>pytorch</th>\n",
       "      <td>NaN</td>\n",
       "      <td>134855</td>\n",
       "    </tr>\n",
       "    <tr>\n",
       "      <th>csv</th>\n",
       "      <td>NaN</td>\n",
       "      <td>131139</td>\n",
       "    </tr>\n",
       "    <tr>\n",
       "      <th>dataset</th>\n",
       "      <td>250.0</td>\n",
       "      <td>121116</td>\n",
       "    </tr>\n",
       "    <tr>\n",
       "      <th>xgboost</th>\n",
       "      <td>NaN</td>\n",
       "      <td>114946</td>\n",
       "    </tr>\n",
       "  </tbody>\n",
       "</table>\n",
       "</div>"
      ],
      "text/plain": [
       "                   Count  ViewCount\n",
       "python            1448.0    1803431\n",
       "machine-learning  2134.0    1170539\n",
       "pandas             315.0     829503\n",
       "keras              706.0     780769\n",
       "deep-learning      889.0     670009\n",
       "neural-network     819.0     573712\n",
       "scikit-learn       447.0     431842\n",
       "tensorflow         413.0     391212\n",
       "classification     580.0     329088\n",
       "dataframe            NaN     311686\n",
       "cnn                379.0     247763\n",
       "nlp                394.0     238505\n",
       "lstm               290.0     209445\n",
       "time-series        337.0     193947\n",
       "numpy                NaN     176344\n",
       "regression         270.0     141472\n",
       "pytorch              NaN     134855\n",
       "csv                  NaN     131139\n",
       "dataset            250.0     121116\n",
       "xgboost              NaN     114946"
      ]
     },
     "execution_count": 20,
     "metadata": {},
     "output_type": "execute_result"
    }
   ],
   "source": [
    "in_viewed=pd.merge(most_used, most_viewed, how=\"right\", left_index=True, right_index=True)\n",
    "in_viewed"
   ]
  },
  {
   "cell_type": "markdown",
   "metadata": {},
   "source": [
    "On the other side, the tags : dataframe,numpy,pytorch,csv,xboost are in most-viewed but not in most-count tags."
   ]
  },
  {
   "cell_type": "markdown",
   "metadata": {},
   "source": [
    "## Relations between tags"
   ]
  },
  {
   "cell_type": "markdown",
   "metadata": {},
   "source": [
    "To begin we are going to restrain this analysis to **find a relation between tags-pairs** and to to do so, we will count the number of times each pair is associated in a post by creating a dataframe like in the example below: \n",
    "\n",
    "| 0    \t| tag1 \t| tag2 \t| tag3 \t|\n",
    "|------\t|------\t|------\t|------\t|\n",
    "| tag1 \t| 98    | 6    \t| 12   \t|\n",
    "| tag2 \t| 6    \t| 4   \t| 57   \t|\n",
    "| tag3 \t| 12   \t| 57   \t| 492   |\n",
    "\n",
    "\n"
   ]
  },
  {
   "cell_type": "code",
   "execution_count": 22,
   "metadata": {
    "collapsed": true
   },
   "outputs": [],
   "source": [
    "associations = pd.DataFrame(index=all_tags, columns=all_tags)\n",
    "associations = associations.fillna(0) #to fill the array with O for each pair.\n",
    "\n",
    "for tags in data[\"Tags\"]:\n",
    "    associations.loc[tags, tags]+=1\n"
   ]
  },
  {
   "cell_type": "markdown",
   "metadata": {},
   "source": [
    "Note that in total there are 492 tags, so will have a 493 x 493 array which will not be very readable for a human, so will display our array only for the 20 most-used tags to see if there are any relations ships betweens those particular ones.\n"
   ]
  },
  {
   "cell_type": "code",
   "execution_count": 23,
   "metadata": {},
   "outputs": [
    {
     "data": {
      "text/html": [
       "<div>\n",
       "<style>\n",
       "    .dataframe thead tr:only-child th {\n",
       "        text-align: right;\n",
       "    }\n",
       "\n",
       "    .dataframe thead th {\n",
       "        text-align: left;\n",
       "    }\n",
       "\n",
       "    .dataframe tbody tr th {\n",
       "        vertical-align: top;\n",
       "    }\n",
       "</style>\n",
       "<table border=\"1\" class=\"dataframe\">\n",
       "  <thead>\n",
       "    <tr style=\"text-align: right;\">\n",
       "      <th></th>\n",
       "      <th>machine-learning</th>\n",
       "      <th>python</th>\n",
       "      <th>deep-learning</th>\n",
       "      <th>neural-network</th>\n",
       "      <th>keras</th>\n",
       "      <th>classification</th>\n",
       "      <th>scikit-learn</th>\n",
       "      <th>tensorflow</th>\n",
       "      <th>nlp</th>\n",
       "      <th>cnn</th>\n",
       "      <th>time-series</th>\n",
       "      <th>pandas</th>\n",
       "      <th>lstm</th>\n",
       "      <th>regression</th>\n",
       "      <th>dataset</th>\n",
       "      <th>clustering</th>\n",
       "      <th>predictive-modeling</th>\n",
       "      <th>r</th>\n",
       "      <th>feature-selection</th>\n",
       "      <th>data-mining</th>\n",
       "    </tr>\n",
       "  </thead>\n",
       "  <tbody>\n",
       "    <tr>\n",
       "      <th>machine-learning</th>\n",
       "      <td>2134</td>\n",
       "      <td>404</td>\n",
       "      <td>325</td>\n",
       "      <td>289</td>\n",
       "      <td>146</td>\n",
       "      <td>223</td>\n",
       "      <td>160</td>\n",
       "      <td>69</td>\n",
       "      <td>93</td>\n",
       "      <td>95</td>\n",
       "      <td>106</td>\n",
       "      <td>57</td>\n",
       "      <td>43</td>\n",
       "      <td>100</td>\n",
       "      <td>78</td>\n",
       "      <td>52</td>\n",
       "      <td>100</td>\n",
       "      <td>48</td>\n",
       "      <td>81</td>\n",
       "      <td>85</td>\n",
       "    </tr>\n",
       "    <tr>\n",
       "      <th>python</th>\n",
       "      <td>404</td>\n",
       "      <td>1448</td>\n",
       "      <td>106</td>\n",
       "      <td>107</td>\n",
       "      <td>205</td>\n",
       "      <td>84</td>\n",
       "      <td>198</td>\n",
       "      <td>121</td>\n",
       "      <td>64</td>\n",
       "      <td>46</td>\n",
       "      <td>77</td>\n",
       "      <td>218</td>\n",
       "      <td>43</td>\n",
       "      <td>51</td>\n",
       "      <td>41</td>\n",
       "      <td>41</td>\n",
       "      <td>30</td>\n",
       "      <td>19</td>\n",
       "      <td>23</td>\n",
       "      <td>22</td>\n",
       "    </tr>\n",
       "    <tr>\n",
       "      <th>deep-learning</th>\n",
       "      <td>325</td>\n",
       "      <td>106</td>\n",
       "      <td>889</td>\n",
       "      <td>244</td>\n",
       "      <td>197</td>\n",
       "      <td>50</td>\n",
       "      <td>12</td>\n",
       "      <td>103</td>\n",
       "      <td>57</td>\n",
       "      <td>120</td>\n",
       "      <td>30</td>\n",
       "      <td>1</td>\n",
       "      <td>71</td>\n",
       "      <td>19</td>\n",
       "      <td>21</td>\n",
       "      <td>2</td>\n",
       "      <td>23</td>\n",
       "      <td>4</td>\n",
       "      <td>18</td>\n",
       "      <td>20</td>\n",
       "    </tr>\n",
       "    <tr>\n",
       "      <th>neural-network</th>\n",
       "      <td>289</td>\n",
       "      <td>107</td>\n",
       "      <td>244</td>\n",
       "      <td>819</td>\n",
       "      <td>191</td>\n",
       "      <td>54</td>\n",
       "      <td>20</td>\n",
       "      <td>79</td>\n",
       "      <td>19</td>\n",
       "      <td>95</td>\n",
       "      <td>25</td>\n",
       "      <td>1</td>\n",
       "      <td>49</td>\n",
       "      <td>40</td>\n",
       "      <td>17</td>\n",
       "      <td>4</td>\n",
       "      <td>8</td>\n",
       "      <td>6</td>\n",
       "      <td>7</td>\n",
       "      <td>4</td>\n",
       "    </tr>\n",
       "    <tr>\n",
       "      <th>keras</th>\n",
       "      <td>146</td>\n",
       "      <td>205</td>\n",
       "      <td>197</td>\n",
       "      <td>191</td>\n",
       "      <td>706</td>\n",
       "      <td>48</td>\n",
       "      <td>26</td>\n",
       "      <td>196</td>\n",
       "      <td>18</td>\n",
       "      <td>92</td>\n",
       "      <td>34</td>\n",
       "      <td>2</td>\n",
       "      <td>97</td>\n",
       "      <td>25</td>\n",
       "      <td>8</td>\n",
       "      <td>0</td>\n",
       "      <td>9</td>\n",
       "      <td>8</td>\n",
       "      <td>1</td>\n",
       "      <td>1</td>\n",
       "    </tr>\n",
       "    <tr>\n",
       "      <th>classification</th>\n",
       "      <td>223</td>\n",
       "      <td>84</td>\n",
       "      <td>50</td>\n",
       "      <td>54</td>\n",
       "      <td>48</td>\n",
       "      <td>580</td>\n",
       "      <td>41</td>\n",
       "      <td>17</td>\n",
       "      <td>31</td>\n",
       "      <td>14</td>\n",
       "      <td>19</td>\n",
       "      <td>3</td>\n",
       "      <td>13</td>\n",
       "      <td>29</td>\n",
       "      <td>21</td>\n",
       "      <td>10</td>\n",
       "      <td>24</td>\n",
       "      <td>8</td>\n",
       "      <td>17</td>\n",
       "      <td>18</td>\n",
       "    </tr>\n",
       "    <tr>\n",
       "      <th>scikit-learn</th>\n",
       "      <td>160</td>\n",
       "      <td>198</td>\n",
       "      <td>12</td>\n",
       "      <td>20</td>\n",
       "      <td>26</td>\n",
       "      <td>41</td>\n",
       "      <td>447</td>\n",
       "      <td>8</td>\n",
       "      <td>10</td>\n",
       "      <td>0</td>\n",
       "      <td>7</td>\n",
       "      <td>31</td>\n",
       "      <td>1</td>\n",
       "      <td>33</td>\n",
       "      <td>6</td>\n",
       "      <td>22</td>\n",
       "      <td>11</td>\n",
       "      <td>1</td>\n",
       "      <td>19</td>\n",
       "      <td>2</td>\n",
       "    </tr>\n",
       "    <tr>\n",
       "      <th>tensorflow</th>\n",
       "      <td>69</td>\n",
       "      <td>121</td>\n",
       "      <td>103</td>\n",
       "      <td>79</td>\n",
       "      <td>196</td>\n",
       "      <td>17</td>\n",
       "      <td>8</td>\n",
       "      <td>413</td>\n",
       "      <td>7</td>\n",
       "      <td>41</td>\n",
       "      <td>7</td>\n",
       "      <td>2</td>\n",
       "      <td>26</td>\n",
       "      <td>6</td>\n",
       "      <td>7</td>\n",
       "      <td>0</td>\n",
       "      <td>3</td>\n",
       "      <td>1</td>\n",
       "      <td>0</td>\n",
       "      <td>0</td>\n",
       "    </tr>\n",
       "    <tr>\n",
       "      <th>nlp</th>\n",
       "      <td>93</td>\n",
       "      <td>64</td>\n",
       "      <td>57</td>\n",
       "      <td>19</td>\n",
       "      <td>18</td>\n",
       "      <td>31</td>\n",
       "      <td>10</td>\n",
       "      <td>7</td>\n",
       "      <td>394</td>\n",
       "      <td>7</td>\n",
       "      <td>0</td>\n",
       "      <td>3</td>\n",
       "      <td>16</td>\n",
       "      <td>2</td>\n",
       "      <td>10</td>\n",
       "      <td>9</td>\n",
       "      <td>0</td>\n",
       "      <td>2</td>\n",
       "      <td>4</td>\n",
       "      <td>6</td>\n",
       "    </tr>\n",
       "    <tr>\n",
       "      <th>cnn</th>\n",
       "      <td>95</td>\n",
       "      <td>46</td>\n",
       "      <td>120</td>\n",
       "      <td>95</td>\n",
       "      <td>92</td>\n",
       "      <td>14</td>\n",
       "      <td>0</td>\n",
       "      <td>41</td>\n",
       "      <td>7</td>\n",
       "      <td>379</td>\n",
       "      <td>7</td>\n",
       "      <td>1</td>\n",
       "      <td>18</td>\n",
       "      <td>4</td>\n",
       "      <td>8</td>\n",
       "      <td>0</td>\n",
       "      <td>5</td>\n",
       "      <td>1</td>\n",
       "      <td>1</td>\n",
       "      <td>2</td>\n",
       "    </tr>\n",
       "    <tr>\n",
       "      <th>time-series</th>\n",
       "      <td>106</td>\n",
       "      <td>77</td>\n",
       "      <td>30</td>\n",
       "      <td>25</td>\n",
       "      <td>34</td>\n",
       "      <td>19</td>\n",
       "      <td>7</td>\n",
       "      <td>7</td>\n",
       "      <td>0</td>\n",
       "      <td>7</td>\n",
       "      <td>337</td>\n",
       "      <td>16</td>\n",
       "      <td>60</td>\n",
       "      <td>19</td>\n",
       "      <td>3</td>\n",
       "      <td>19</td>\n",
       "      <td>24</td>\n",
       "      <td>18</td>\n",
       "      <td>6</td>\n",
       "      <td>6</td>\n",
       "    </tr>\n",
       "    <tr>\n",
       "      <th>pandas</th>\n",
       "      <td>57</td>\n",
       "      <td>218</td>\n",
       "      <td>1</td>\n",
       "      <td>1</td>\n",
       "      <td>2</td>\n",
       "      <td>3</td>\n",
       "      <td>31</td>\n",
       "      <td>2</td>\n",
       "      <td>3</td>\n",
       "      <td>1</td>\n",
       "      <td>16</td>\n",
       "      <td>315</td>\n",
       "      <td>6</td>\n",
       "      <td>6</td>\n",
       "      <td>9</td>\n",
       "      <td>5</td>\n",
       "      <td>4</td>\n",
       "      <td>1</td>\n",
       "      <td>2</td>\n",
       "      <td>8</td>\n",
       "    </tr>\n",
       "    <tr>\n",
       "      <th>lstm</th>\n",
       "      <td>43</td>\n",
       "      <td>43</td>\n",
       "      <td>71</td>\n",
       "      <td>49</td>\n",
       "      <td>97</td>\n",
       "      <td>13</td>\n",
       "      <td>1</td>\n",
       "      <td>26</td>\n",
       "      <td>16</td>\n",
       "      <td>18</td>\n",
       "      <td>60</td>\n",
       "      <td>6</td>\n",
       "      <td>290</td>\n",
       "      <td>10</td>\n",
       "      <td>5</td>\n",
       "      <td>3</td>\n",
       "      <td>7</td>\n",
       "      <td>3</td>\n",
       "      <td>1</td>\n",
       "      <td>1</td>\n",
       "    </tr>\n",
       "    <tr>\n",
       "      <th>regression</th>\n",
       "      <td>100</td>\n",
       "      <td>51</td>\n",
       "      <td>19</td>\n",
       "      <td>40</td>\n",
       "      <td>25</td>\n",
       "      <td>29</td>\n",
       "      <td>33</td>\n",
       "      <td>6</td>\n",
       "      <td>2</td>\n",
       "      <td>4</td>\n",
       "      <td>19</td>\n",
       "      <td>6</td>\n",
       "      <td>10</td>\n",
       "      <td>270</td>\n",
       "      <td>4</td>\n",
       "      <td>1</td>\n",
       "      <td>23</td>\n",
       "      <td>7</td>\n",
       "      <td>10</td>\n",
       "      <td>3</td>\n",
       "    </tr>\n",
       "    <tr>\n",
       "      <th>dataset</th>\n",
       "      <td>78</td>\n",
       "      <td>41</td>\n",
       "      <td>21</td>\n",
       "      <td>17</td>\n",
       "      <td>8</td>\n",
       "      <td>21</td>\n",
       "      <td>6</td>\n",
       "      <td>7</td>\n",
       "      <td>10</td>\n",
       "      <td>8</td>\n",
       "      <td>3</td>\n",
       "      <td>9</td>\n",
       "      <td>5</td>\n",
       "      <td>4</td>\n",
       "      <td>250</td>\n",
       "      <td>5</td>\n",
       "      <td>5</td>\n",
       "      <td>5</td>\n",
       "      <td>4</td>\n",
       "      <td>22</td>\n",
       "    </tr>\n",
       "    <tr>\n",
       "      <th>clustering</th>\n",
       "      <td>52</td>\n",
       "      <td>41</td>\n",
       "      <td>2</td>\n",
       "      <td>4</td>\n",
       "      <td>0</td>\n",
       "      <td>10</td>\n",
       "      <td>22</td>\n",
       "      <td>0</td>\n",
       "      <td>9</td>\n",
       "      <td>0</td>\n",
       "      <td>19</td>\n",
       "      <td>5</td>\n",
       "      <td>3</td>\n",
       "      <td>1</td>\n",
       "      <td>5</td>\n",
       "      <td>229</td>\n",
       "      <td>0</td>\n",
       "      <td>16</td>\n",
       "      <td>3</td>\n",
       "      <td>1</td>\n",
       "    </tr>\n",
       "    <tr>\n",
       "      <th>predictive-modeling</th>\n",
       "      <td>100</td>\n",
       "      <td>30</td>\n",
       "      <td>23</td>\n",
       "      <td>8</td>\n",
       "      <td>9</td>\n",
       "      <td>24</td>\n",
       "      <td>11</td>\n",
       "      <td>3</td>\n",
       "      <td>0</td>\n",
       "      <td>5</td>\n",
       "      <td>24</td>\n",
       "      <td>4</td>\n",
       "      <td>7</td>\n",
       "      <td>23</td>\n",
       "      <td>5</td>\n",
       "      <td>0</td>\n",
       "      <td>213</td>\n",
       "      <td>11</td>\n",
       "      <td>16</td>\n",
       "      <td>23</td>\n",
       "    </tr>\n",
       "    <tr>\n",
       "      <th>r</th>\n",
       "      <td>48</td>\n",
       "      <td>19</td>\n",
       "      <td>4</td>\n",
       "      <td>6</td>\n",
       "      <td>8</td>\n",
       "      <td>8</td>\n",
       "      <td>1</td>\n",
       "      <td>1</td>\n",
       "      <td>2</td>\n",
       "      <td>1</td>\n",
       "      <td>18</td>\n",
       "      <td>1</td>\n",
       "      <td>3</td>\n",
       "      <td>7</td>\n",
       "      <td>5</td>\n",
       "      <td>16</td>\n",
       "      <td>11</td>\n",
       "      <td>194</td>\n",
       "      <td>5</td>\n",
       "      <td>8</td>\n",
       "    </tr>\n",
       "    <tr>\n",
       "      <th>feature-selection</th>\n",
       "      <td>81</td>\n",
       "      <td>23</td>\n",
       "      <td>18</td>\n",
       "      <td>7</td>\n",
       "      <td>1</td>\n",
       "      <td>17</td>\n",
       "      <td>19</td>\n",
       "      <td>0</td>\n",
       "      <td>4</td>\n",
       "      <td>1</td>\n",
       "      <td>6</td>\n",
       "      <td>2</td>\n",
       "      <td>1</td>\n",
       "      <td>10</td>\n",
       "      <td>4</td>\n",
       "      <td>3</td>\n",
       "      <td>16</td>\n",
       "      <td>5</td>\n",
       "      <td>175</td>\n",
       "      <td>13</td>\n",
       "    </tr>\n",
       "    <tr>\n",
       "      <th>data-mining</th>\n",
       "      <td>85</td>\n",
       "      <td>22</td>\n",
       "      <td>20</td>\n",
       "      <td>4</td>\n",
       "      <td>1</td>\n",
       "      <td>18</td>\n",
       "      <td>2</td>\n",
       "      <td>0</td>\n",
       "      <td>6</td>\n",
       "      <td>2</td>\n",
       "      <td>6</td>\n",
       "      <td>8</td>\n",
       "      <td>1</td>\n",
       "      <td>3</td>\n",
       "      <td>22</td>\n",
       "      <td>1</td>\n",
       "      <td>23</td>\n",
       "      <td>8</td>\n",
       "      <td>13</td>\n",
       "      <td>173</td>\n",
       "    </tr>\n",
       "  </tbody>\n",
       "</table>\n",
       "</div>"
      ],
      "text/plain": [
       "                     machine-learning  python  deep-learning  neural-network  \\\n",
       "machine-learning                 2134     404            325             289   \n",
       "python                            404    1448            106             107   \n",
       "deep-learning                     325     106            889             244   \n",
       "neural-network                    289     107            244             819   \n",
       "keras                             146     205            197             191   \n",
       "classification                    223      84             50              54   \n",
       "scikit-learn                      160     198             12              20   \n",
       "tensorflow                         69     121            103              79   \n",
       "nlp                                93      64             57              19   \n",
       "cnn                                95      46            120              95   \n",
       "time-series                       106      77             30              25   \n",
       "pandas                             57     218              1               1   \n",
       "lstm                               43      43             71              49   \n",
       "regression                        100      51             19              40   \n",
       "dataset                            78      41             21              17   \n",
       "clustering                         52      41              2               4   \n",
       "predictive-modeling               100      30             23               8   \n",
       "r                                  48      19              4               6   \n",
       "feature-selection                  81      23             18               7   \n",
       "data-mining                        85      22             20               4   \n",
       "\n",
       "                     keras  classification  scikit-learn  tensorflow  nlp  \\\n",
       "machine-learning       146             223           160          69   93   \n",
       "python                 205              84           198         121   64   \n",
       "deep-learning          197              50            12         103   57   \n",
       "neural-network         191              54            20          79   19   \n",
       "keras                  706              48            26         196   18   \n",
       "classification          48             580            41          17   31   \n",
       "scikit-learn            26              41           447           8   10   \n",
       "tensorflow             196              17             8         413    7   \n",
       "nlp                     18              31            10           7  394   \n",
       "cnn                     92              14             0          41    7   \n",
       "time-series             34              19             7           7    0   \n",
       "pandas                   2               3            31           2    3   \n",
       "lstm                    97              13             1          26   16   \n",
       "regression              25              29            33           6    2   \n",
       "dataset                  8              21             6           7   10   \n",
       "clustering               0              10            22           0    9   \n",
       "predictive-modeling      9              24            11           3    0   \n",
       "r                        8               8             1           1    2   \n",
       "feature-selection        1              17            19           0    4   \n",
       "data-mining              1              18             2           0    6   \n",
       "\n",
       "                     cnn  time-series  pandas  lstm  regression  dataset  \\\n",
       "machine-learning      95          106      57    43         100       78   \n",
       "python                46           77     218    43          51       41   \n",
       "deep-learning        120           30       1    71          19       21   \n",
       "neural-network        95           25       1    49          40       17   \n",
       "keras                 92           34       2    97          25        8   \n",
       "classification        14           19       3    13          29       21   \n",
       "scikit-learn           0            7      31     1          33        6   \n",
       "tensorflow            41            7       2    26           6        7   \n",
       "nlp                    7            0       3    16           2       10   \n",
       "cnn                  379            7       1    18           4        8   \n",
       "time-series            7          337      16    60          19        3   \n",
       "pandas                 1           16     315     6           6        9   \n",
       "lstm                  18           60       6   290          10        5   \n",
       "regression             4           19       6    10         270        4   \n",
       "dataset                8            3       9     5           4      250   \n",
       "clustering             0           19       5     3           1        5   \n",
       "predictive-modeling    5           24       4     7          23        5   \n",
       "r                      1           18       1     3           7        5   \n",
       "feature-selection      1            6       2     1          10        4   \n",
       "data-mining            2            6       8     1           3       22   \n",
       "\n",
       "                     clustering  predictive-modeling    r  feature-selection  \\\n",
       "machine-learning             52                  100   48                 81   \n",
       "python                       41                   30   19                 23   \n",
       "deep-learning                 2                   23    4                 18   \n",
       "neural-network                4                    8    6                  7   \n",
       "keras                         0                    9    8                  1   \n",
       "classification               10                   24    8                 17   \n",
       "scikit-learn                 22                   11    1                 19   \n",
       "tensorflow                    0                    3    1                  0   \n",
       "nlp                           9                    0    2                  4   \n",
       "cnn                           0                    5    1                  1   \n",
       "time-series                  19                   24   18                  6   \n",
       "pandas                        5                    4    1                  2   \n",
       "lstm                          3                    7    3                  1   \n",
       "regression                    1                   23    7                 10   \n",
       "dataset                       5                    5    5                  4   \n",
       "clustering                  229                    0   16                  3   \n",
       "predictive-modeling           0                  213   11                 16   \n",
       "r                            16                   11  194                  5   \n",
       "feature-selection             3                   16    5                175   \n",
       "data-mining                   1                   23    8                 13   \n",
       "\n",
       "                     data-mining  \n",
       "machine-learning              85  \n",
       "python                        22  \n",
       "deep-learning                 20  \n",
       "neural-network                 4  \n",
       "keras                          1  \n",
       "classification                18  \n",
       "scikit-learn                   2  \n",
       "tensorflow                     0  \n",
       "nlp                            6  \n",
       "cnn                            2  \n",
       "time-series                    6  \n",
       "pandas                         8  \n",
       "lstm                           1  \n",
       "regression                     3  \n",
       "dataset                       22  \n",
       "clustering                     1  \n",
       "predictive-modeling           23  \n",
       "r                              8  \n",
       "feature-selection             13  \n",
       "data-mining                  173  "
      ]
     },
     "execution_count": 23,
     "metadata": {},
     "output_type": "execute_result"
    }
   ],
   "source": [
    "most_used_relations = associations.loc[most_used.index,most_used.index]\n",
    "most_used_relations"
   ]
  },
  {
   "cell_type": "markdown",
   "metadata": {},
   "source": [
    "As it is very difficult for a human to draw any conclusions from the above array (even though it is just 20X20), we are goint to plot a heatmap based on the latter. The intensity of the color will will stand for how many times the pair was associated in a post. "
   ]
  },
  {
   "cell_type": "code",
   "execution_count": 24,
   "metadata": {
    "collapsed": true
   },
   "outputs": [],
   "source": [
    "for i in range(most_used_relations.shape[0]):\n",
    "    most_used_relations.iloc[i,i] = pd.np.NaN"
   ]
  },
  {
   "cell_type": "code",
   "execution_count": 25,
   "metadata": {},
   "outputs": [
    {
     "data": {
      "image/png": "[encoded data removed]",
      "text/plain": [
       "<matplotlib.figure.Figure at 0x1a18f80160>"
      ]
     },
     "metadata": {},
     "output_type": "display_data"
    }
   ],
   "source": [
    "plt.figure(figsize=(12,8))\n",
    "sns.heatmap(most_used_relations, cmap=\"Greens\", annot=False)\n",
    "plt.show()"
   ]
  },
  {
   "cell_type": "markdown",
   "metadata": {},
   "source": [
    "The interpretation here comes from the solution solution by a data-quest user on their [Github](https://github.com/dataquestio/solutions/blob/master/Mission469Solutions.ipynb) :\n",
    "> \" The most used tags also seem to have the strongest relationships, as given by the dark concentration in the top left corner. However, this could simply be because each of these tags is used a lot, and so end up being used together a lot without possibly even having any strong relation between them.\n",
    "\n",
    ">** A more intuitive manifestation of this phenomenon is the following. A lot of people buy bread, a lot of people buy toilet paper, so they end up being purchased together a lot, but purchasing one of them doesn't increase the chances of purchasing the other.**\n",
    "\n",
    ">Another shortcoming of this attempt is that it only looks at relations between pairs of tags and not between multiple groups of tags. For example, it could be the case that when used together, dataset and scikit-learn have a \"strong\" relation to pandas, but each by itself doesn't.\n",
    "\n",
    ">So how do we attack both these problems? There is a powerful data mining technique that allows us to handle this: association rules. Association rules allow us to analytically spot relations like \"people who purchase milk, also purchase eggs\". Moreover, we can also measure how strong this relations are on several fronts: how common the relation is, how strong it is, and how independent the components of the relationship are (toilet paper and bread are probably more independent than eggs and milk — you'll learn more about statistical independence) in the next step).\n",
    "We won't get into the details of it, as the technique is out of scope for this course, but it is a path worth investigating! \"\n"
   ]
  },
  {
   "cell_type": "markdown",
   "metadata": {},
   "source": [
    "## Enter Domain Knowledge"
   ]
  },
  {
   "cell_type": "markdown",
   "metadata": {},
   "source": [
    "From the top 20 most-used and most-viewed tags dataframe, it turns out that there are tags in common such as :  \n",
    "`python, machine-learning, deep-learning, neural-network, keras, tensorflow, classification, scikit-learn`\n",
    "\n",
    "The lowest common denominator for all these terms would be ***machine-learning / deep-learning*** as for instance:\n",
    "- classification is a unsupervised machine learning technique than can be used in deep-learning\n",
    "- deep-learning and neural-network are sub-domains of Machine-Learning\n",
    "- python is a programmin language very popular in Data-Science and all the more so it is used to implement machine-learning algorithms\n",
    "- keras,tensorflow, scikit-learn are python librairies used machine-learning and deep-learning."
   ]
  },
  {
   "cell_type": "markdown",
   "metadata": {},
   "source": [
    "## Deep-Learning : just a fad ?"
   ]
  },
  {
   "cell_type": "markdown",
   "metadata": {},
   "source": [
    "With the query below we will fetches all the questions asked on DSSE, their dates and their tags. We will store the result of the query in a csv file called : `all_questions.csv` .\n",
    "We will try to measure the interest for **deep-learning** across time by : \n",
    "- Counting how many deep learning questions are asked per time period.\n",
    "- Computing the total amount of questions per time period.\n",
    "- How many deep learning questions there are relative to the total amount of questions per time period."
   ]
  },
  {
   "cell_type": "markdown",
   "metadata": {},
   "source": [
    "`SELECT Id, CreationDate, Tags\n",
    "  FROM posts\n",
    " WHERE PostTypeId = 1:`"
   ]
  },
  {
   "cell_type": "code",
   "execution_count": 26,
   "metadata": {},
   "outputs": [
    {
     "name": "stdout",
     "output_type": "stream",
     "text": [
      "(50000, 3)\n"
     ]
    }
   ],
   "source": [
    "all_ques = pd.read_csv('all_questions.csv',parse_dates=[\"CreationDate\"])\n",
    "#all_ques['CreationDate'] = pd.to_datetime(all_ques['CreationDate'])\n",
    "print(all_ques.shape)\n",
    "\n",
    "\n"
   ]
  },
  {
   "cell_type": "code",
   "execution_count": 27,
   "metadata": {},
   "outputs": [
    {
     "data": {
      "text/plain": [
       "0    [c#, android, xamarin.android, async-await, task]\n",
       "1                       [python, json, django, sqlite]\n",
       "2                                [tensorflow, upgrade]\n",
       "3                             [powershell, batch-file]\n",
       "4                              [unit-testing, methods]\n",
       "5                                               [sumo]\n",
       "6                                 [javascript, vue.js]\n",
       "7         [api, iframe, shopify, steam, steam-web-api]\n",
       "8                                  [javascript, regex]\n",
       "9                                    [sql, sql-server]\n",
       "Name: Tags, dtype: object"
      ]
     },
     "execution_count": 27,
     "metadata": {},
     "output_type": "execute_result"
    }
   ],
   "source": [
    "all_ques['Tags'] = all_ques['Tags'].str.replace('<','').str.replace('>',',').astype(str)\n",
    "all_ques['Tags'] = all_ques['Tags'].apply(lambda s: s[:-1])\n",
    "all_ques[\"Tags\"] = all_ques[\"Tags\"].str.split(\",\")\n",
    "all_ques[\"Tags\"].head(10)"
   ]
  },
  {
   "cell_type": "markdown",
   "metadata": {},
   "source": [
    "### Classifying the deep-learning questions "
   ]
  },
  {
   "cell_type": "markdown",
   "metadata": {},
   "source": [
    "To classify the questions as deep-learning-related questions we will definy first a list of terms that we estimated to be associated to **Deep Learning** and then for each post, we will look its tags and if one of them is in the previously defined list, then we will mark this question as a deep-learning questions."
   ]
  },
  {
   "cell_type": "code",
   "execution_count": 28,
   "metadata": {
    "collapsed": true
   },
   "outputs": [],
   "source": [
    "# defining the list of deep-learning related words\n",
    "deep_l = ['deep-learning','keras','neural_network','tensorflow','cnn','rnn','pytorch']\n",
    "\n",
    "def deep_learning_cat(L):\n",
    "    for e in L:\n",
    "        if e in deep_l:\n",
    "            return 1\n",
    "        else:\n",
    "            return 0\n",
    "        \n",
    "all_ques['deep_learning'] = all_ques['Tags'].apply(deep_learning_cat)\n",
    "\n"
   ]
  }
 ],
 "metadata": {
  "kernelspec": {
   "display_name": "Python 3",
   "language": "python",
   "name": "python3"
  },
  "language_info": {
   "codemirror_mode": {
    "name": "ipython",
    "version": 3
   },
   "file_extension": ".py",
   "mimetype": "text/x-python",
   "name": "python",
   "nbconvert_exporter": "python",
   "pygments_lexer": "ipython3",
   "version": "3.6.3"
  }
 },
 "nbformat": 4,
 "nbformat_minor": 2
}
